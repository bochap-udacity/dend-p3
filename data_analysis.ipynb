{
 "cells": [
  {
   "cell_type": "code",
   "execution_count": 1,
   "metadata": {},
   "outputs": [],
   "source": [
    "import pandas as pd\n",
    "import boto3\n",
    "import json\n",
    "import datetime\n",
    "import configparser\n",
    "import os\n",
    "import glob\n",
    "import psycopg2\n",
    "\n",
    "def get_files(filepath):\n",
    "    all_files = []\n",
    "    for root, dirs, files in os.walk(filepath):\n",
    "        files = glob.glob(os.path.join(root,'*.json'))\n",
    "        for f in files :\n",
    "            all_files.append(os.path.abspath(f))\n",
    "    \n",
    "    return all_files"
   ]
  },
  {
   "cell_type": "markdown",
   "metadata": {},
   "source": [
    "## Get Configuration"
   ]
  },
  {
   "cell_type": "code",
   "execution_count": 2,
   "metadata": {},
   "outputs": [],
   "source": [
    "config = configparser.ConfigParser()\n",
    "config.read(['dwh.cfg', 'secrets.cfg'])\n",
    "\n",
    "KEY    = config.get('AWS','KEY')\n",
    "SECRET = config.get('AWS','SECRET')\n",
    "REGION = config.get('AWS','REGION')\n",
    "\n",
    "DB_NAME=config.get('CLUSTER','DB_NAME')\n",
    "DB_PORT=config.get('CLUSTER','DB_PORT')\n",
    "DB_USER=config.get('CLUSTER','DB_USER')\n",
    "DB_PASSWORD=config.get('CLUSTER','DB_PASSWORD') "
   ]
  },
  {
   "cell_type": "markdown",
   "metadata": {},
   "source": [
    "## Get Bucket"
   ]
  },
  {
   "cell_type": "code",
   "execution_count": null,
   "metadata": {},
   "outputs": [],
   "source": [
    "bucket_name = \"udacity-dend\"\n",
    "s3 = boto3.resource(\n",
    "    \"s3\", region_name=\"us-west-2\",\n",
    "    aws_access_key_id=KEY,\n",
    "    aws_secret_access_key=SECRET\n",
    ")\n",
    "bucket = s3.Bucket(bucket_name)"
   ]
  },
  {
   "cell_type": "markdown",
   "metadata": {},
   "source": [
    "### Download Log Data"
   ]
  },
  {
   "cell_type": "code",
   "execution_count": null,
   "metadata": {},
   "outputs": [],
   "source": [
    "s3.meta.client.download_file(bucket_name, \"log_json_path.json\", \"log_json_path.json\")\n",
    "\n",
    "for log_object in bucket.objects.filter(Prefix=\"log_data\"):\n",
    "    if log_object.key.endswith(\".json\") == False:\n",
    "        continue\n",
    "    os.makedirs(log_object.key[:log_object.key.rindex(\"/\")], exist_ok=True)\n",
    "    s3.meta.client.download_file(bucket_name, log_object.key, log_object.key)\n",
    "\n",
    "print(\"log data downloaded\")"
   ]
  },
  {
   "cell_type": "markdown",
   "metadata": {},
   "source": [
    "### Download Song Data"
   ]
  },
  {
   "cell_type": "code",
   "execution_count": null,
   "metadata": {},
   "outputs": [],
   "source": [
    "for song_object in bucket.objects.filter(Prefix=\"song_data\"):\n",
    "    if song_object.key.endswith(\".json\") == False:\n",
    "        continue\n",
    "    os.makedirs(song_object.key[:song_object.key.rindex(\"/\")], exist_ok=True)\n",
    "    s3.meta.client.download_file(bucket_name, song_object.key, song_object.key)\n",
    "print(\"song data downloaded\")"
   ]
  },
  {
   "cell_type": "markdown",
   "metadata": {},
   "source": [
    "### staging events table\n",
    "\n",
    "Reading all log data for analysis the data is filter by page = \"NextSong\" since that is the only data that is used in the Data Warehouse."
   ]
  },
  {
   "cell_type": "code",
   "execution_count": 38,
   "metadata": {},
   "outputs": [],
   "source": [
    "df_staging_events = pd.concat([\n",
    "    pd.read_json(file, lines=True) for file in get_files(\"log_data\")\n",
    "])"
   ]
  },
  {
   "cell_type": "markdown",
   "metadata": {},
   "source": [
    "#### Sample Data"
   ]
  },
  {
   "cell_type": "code",
   "execution_count": 43,
   "metadata": {},
   "outputs": [
    {
     "data": {
      "text/plain": [
       "0      1541903636796\n",
       "1      1541903770796\n",
       "2      1541904034796\n",
       "3      1541910841796\n",
       "4      1541910973796\n",
       "           ...      \n",
       "353    1543092353796\n",
       "354    1543092558796\n",
       "355    1543097750796\n",
       "356    1543097978796\n",
       "357    1543103174796\n",
       "Name: ts, Length: 8056, dtype: int64"
      ]
     },
     "execution_count": 43,
     "metadata": {},
     "output_type": "execute_result"
    }
   ],
   "source": [
    "df_staging_events['ts']"
   ]
  },
  {
   "cell_type": "code",
   "execution_count": 3,
   "metadata": {},
   "outputs": [
    {
     "data": {
      "text/html": [
       "<div>\n",
       "<style scoped>\n",
       "    .dataframe tbody tr th:only-of-type {\n",
       "        vertical-align: middle;\n",
       "    }\n",
       "\n",
       "    .dataframe tbody tr th {\n",
       "        vertical-align: top;\n",
       "    }\n",
       "\n",
       "    .dataframe thead th {\n",
       "        text-align: right;\n",
       "    }\n",
       "</style>\n",
       "<table border=\"1\" class=\"dataframe\">\n",
       "  <thead>\n",
       "    <tr style=\"text-align: right;\">\n",
       "      <th></th>\n",
       "      <th>artist</th>\n",
       "      <th>auth</th>\n",
       "      <th>firstName</th>\n",
       "      <th>gender</th>\n",
       "      <th>itemInSession</th>\n",
       "      <th>lastName</th>\n",
       "      <th>length</th>\n",
       "      <th>level</th>\n",
       "      <th>location</th>\n",
       "      <th>method</th>\n",
       "      <th>page</th>\n",
       "      <th>registration</th>\n",
       "      <th>sessionId</th>\n",
       "      <th>song</th>\n",
       "      <th>status</th>\n",
       "      <th>ts</th>\n",
       "      <th>userAgent</th>\n",
       "      <th>userId</th>\n",
       "    </tr>\n",
       "  </thead>\n",
       "  <tbody>\n",
       "    <tr>\n",
       "      <th>0</th>\n",
       "      <td>Frumpies</td>\n",
       "      <td>Logged In</td>\n",
       "      <td>Anabelle</td>\n",
       "      <td>F</td>\n",
       "      <td>0</td>\n",
       "      <td>Simpson</td>\n",
       "      <td>134.47791</td>\n",
       "      <td>free</td>\n",
       "      <td>Philadelphia-Camden-Wilmington, PA-NJ-DE-MD</td>\n",
       "      <td>PUT</td>\n",
       "      <td>NextSong</td>\n",
       "      <td>1.541044e+12</td>\n",
       "      <td>455</td>\n",
       "      <td>Fuck Kitty</td>\n",
       "      <td>200</td>\n",
       "      <td>1541903636796</td>\n",
       "      <td>\"Mozilla/5.0 (Macintosh; Intel Mac OS X 10_9_4...</td>\n",
       "      <td>69</td>\n",
       "    </tr>\n",
       "    <tr>\n",
       "      <th>1</th>\n",
       "      <td>Kenny G with Peabo Bryson</td>\n",
       "      <td>Logged In</td>\n",
       "      <td>Anabelle</td>\n",
       "      <td>F</td>\n",
       "      <td>1</td>\n",
       "      <td>Simpson</td>\n",
       "      <td>264.75057</td>\n",
       "      <td>free</td>\n",
       "      <td>Philadelphia-Camden-Wilmington, PA-NJ-DE-MD</td>\n",
       "      <td>PUT</td>\n",
       "      <td>NextSong</td>\n",
       "      <td>1.541044e+12</td>\n",
       "      <td>455</td>\n",
       "      <td>By The Time This Night Is Over</td>\n",
       "      <td>200</td>\n",
       "      <td>1541903770796</td>\n",
       "      <td>\"Mozilla/5.0 (Macintosh; Intel Mac OS X 10_9_4...</td>\n",
       "      <td>69</td>\n",
       "    </tr>\n",
       "    <tr>\n",
       "      <th>2</th>\n",
       "      <td>Biffy Clyro</td>\n",
       "      <td>Logged In</td>\n",
       "      <td>Anabelle</td>\n",
       "      <td>F</td>\n",
       "      <td>2</td>\n",
       "      <td>Simpson</td>\n",
       "      <td>189.83138</td>\n",
       "      <td>free</td>\n",
       "      <td>Philadelphia-Camden-Wilmington, PA-NJ-DE-MD</td>\n",
       "      <td>PUT</td>\n",
       "      <td>NextSong</td>\n",
       "      <td>1.541044e+12</td>\n",
       "      <td>455</td>\n",
       "      <td>God &amp; Satan</td>\n",
       "      <td>200</td>\n",
       "      <td>1541904034796</td>\n",
       "      <td>\"Mozilla/5.0 (Macintosh; Intel Mac OS X 10_9_4...</td>\n",
       "      <td>69</td>\n",
       "    </tr>\n",
       "    <tr>\n",
       "      <th>3</th>\n",
       "      <td>None</td>\n",
       "      <td>Logged In</td>\n",
       "      <td>Lily</td>\n",
       "      <td>F</td>\n",
       "      <td>0</td>\n",
       "      <td>Burns</td>\n",
       "      <td>NaN</td>\n",
       "      <td>free</td>\n",
       "      <td>New York-Newark-Jersey City, NY-NJ-PA</td>\n",
       "      <td>GET</td>\n",
       "      <td>Home</td>\n",
       "      <td>1.540621e+12</td>\n",
       "      <td>456</td>\n",
       "      <td>None</td>\n",
       "      <td>200</td>\n",
       "      <td>1541910841796</td>\n",
       "      <td>\"Mozilla/5.0 (Windows NT 6.1; WOW64) AppleWebK...</td>\n",
       "      <td>32</td>\n",
       "    </tr>\n",
       "    <tr>\n",
       "      <th>4</th>\n",
       "      <td>HIM</td>\n",
       "      <td>Logged In</td>\n",
       "      <td>Lily</td>\n",
       "      <td>F</td>\n",
       "      <td>1</td>\n",
       "      <td>Burns</td>\n",
       "      <td>212.06159</td>\n",
       "      <td>free</td>\n",
       "      <td>New York-Newark-Jersey City, NY-NJ-PA</td>\n",
       "      <td>PUT</td>\n",
       "      <td>NextSong</td>\n",
       "      <td>1.540621e+12</td>\n",
       "      <td>456</td>\n",
       "      <td>Beautiful</td>\n",
       "      <td>200</td>\n",
       "      <td>1541910973796</td>\n",
       "      <td>\"Mozilla/5.0 (Windows NT 6.1; WOW64) AppleWebK...</td>\n",
       "      <td>32</td>\n",
       "    </tr>\n",
       "  </tbody>\n",
       "</table>\n",
       "</div>"
      ],
      "text/plain": [
       "                      artist       auth firstName gender  itemInSession  \\\n",
       "0                   Frumpies  Logged In  Anabelle      F              0   \n",
       "1  Kenny G with Peabo Bryson  Logged In  Anabelle      F              1   \n",
       "2                Biffy Clyro  Logged In  Anabelle      F              2   \n",
       "3                       None  Logged In      Lily      F              0   \n",
       "4                        HIM  Logged In      Lily      F              1   \n",
       "\n",
       "  lastName     length level                                     location  \\\n",
       "0  Simpson  134.47791  free  Philadelphia-Camden-Wilmington, PA-NJ-DE-MD   \n",
       "1  Simpson  264.75057  free  Philadelphia-Camden-Wilmington, PA-NJ-DE-MD   \n",
       "2  Simpson  189.83138  free  Philadelphia-Camden-Wilmington, PA-NJ-DE-MD   \n",
       "3    Burns        NaN  free        New York-Newark-Jersey City, NY-NJ-PA   \n",
       "4    Burns  212.06159  free        New York-Newark-Jersey City, NY-NJ-PA   \n",
       "\n",
       "  method      page  registration  sessionId                            song  \\\n",
       "0    PUT  NextSong  1.541044e+12        455                      Fuck Kitty   \n",
       "1    PUT  NextSong  1.541044e+12        455  By The Time This Night Is Over   \n",
       "2    PUT  NextSong  1.541044e+12        455                     God & Satan   \n",
       "3    GET      Home  1.540621e+12        456                            None   \n",
       "4    PUT  NextSong  1.540621e+12        456                       Beautiful   \n",
       "\n",
       "   status             ts                                          userAgent  \\\n",
       "0     200  1541903636796  \"Mozilla/5.0 (Macintosh; Intel Mac OS X 10_9_4...   \n",
       "1     200  1541903770796  \"Mozilla/5.0 (Macintosh; Intel Mac OS X 10_9_4...   \n",
       "2     200  1541904034796  \"Mozilla/5.0 (Macintosh; Intel Mac OS X 10_9_4...   \n",
       "3     200  1541910841796  \"Mozilla/5.0 (Windows NT 6.1; WOW64) AppleWebK...   \n",
       "4     200  1541910973796  \"Mozilla/5.0 (Windows NT 6.1; WOW64) AppleWebK...   \n",
       "\n",
       "  userId  \n",
       "0     69  \n",
       "1     69  \n",
       "2     69  \n",
       "3     32  \n",
       "4     32  "
      ]
     },
     "execution_count": 3,
     "metadata": {},
     "output_type": "execute_result"
    }
   ],
   "source": [
    "df_staging_events.head()"
   ]
  },
  {
   "cell_type": "markdown",
   "metadata": {},
   "source": [
    "#### Check for null data"
   ]
  },
  {
   "cell_type": "code",
   "execution_count": 4,
   "metadata": {},
   "outputs": [
    {
     "data": {
      "text/plain": [
       "artist           1236\n",
       "auth                0\n",
       "firstName         286\n",
       "gender            286\n",
       "itemInSession       0\n",
       "lastName          286\n",
       "length           1236\n",
       "level               0\n",
       "location          286\n",
       "method              0\n",
       "page                0\n",
       "registration      286\n",
       "sessionId           0\n",
       "song             1236\n",
       "status              0\n",
       "ts                  0\n",
       "userAgent         286\n",
       "userId              0\n",
       "dtype: int64"
      ]
     },
     "execution_count": 4,
     "metadata": {},
     "output_type": "execute_result"
    }
   ],
   "source": [
    "df_staging_events.isna().sum()"
   ]
  },
  {
   "cell_type": "markdown",
   "metadata": {},
   "source": [
    "#### Check Data Types"
   ]
  },
  {
   "cell_type": "code",
   "execution_count": 5,
   "metadata": {},
   "outputs": [
    {
     "name": "stdout",
     "output_type": "stream",
     "text": [
      "<class 'pandas.core.frame.DataFrame'>\n",
      "Int64Index: 8056 entries, 0 to 357\n",
      "Data columns (total 18 columns):\n",
      "artist           6820 non-null object\n",
      "auth             8056 non-null object\n",
      "firstName        7770 non-null object\n",
      "gender           7770 non-null object\n",
      "itemInSession    8056 non-null int64\n",
      "lastName         7770 non-null object\n",
      "length           6820 non-null float64\n",
      "level            8056 non-null object\n",
      "location         7770 non-null object\n",
      "method           8056 non-null object\n",
      "page             8056 non-null object\n",
      "registration     7770 non-null float64\n",
      "sessionId        8056 non-null int64\n",
      "song             6820 non-null object\n",
      "status           8056 non-null int64\n",
      "ts               8056 non-null int64\n",
      "userAgent        7770 non-null object\n",
      "userId           8056 non-null object\n",
      "dtypes: float64(2), int64(4), object(12)\n",
      "memory usage: 1.2+ MB\n"
     ]
    }
   ],
   "source": [
    "df_staging_events.info()"
   ]
  },
  {
   "cell_type": "markdown",
   "metadata": {},
   "source": [
    "#### Check Field Lengths of strings"
   ]
  },
  {
   "cell_type": "code",
   "execution_count": 6,
   "metadata": {},
   "outputs": [
    {
     "name": "stdout",
     "output_type": "stream",
     "text": [
      "artist maximum length: 89.0\n",
      "auth maximum length: 10\n",
      "firstName maximum length: 10.0\n",
      "lastName maximum length: 9.0\n",
      "gender maximum length: 1.0\n",
      "level maximum length: 4\n",
      "location maximum length: 46.0\n",
      "method maximum length: 3\n",
      "page maximum length: 16\n",
      "song maximum length: 151.0\n",
      "userAgent maximum length: 139.0\n"
     ]
    }
   ],
   "source": [
    "print(f\"artist maximum length: {df_staging_events['artist'].str.len().max()}\")\n",
    "print(f\"auth maximum length: {df_staging_events['auth'].str.len().max()}\")\n",
    "print(f\"firstName maximum length: {df_staging_events['firstName'].str.len().max()}\")\n",
    "print(f\"lastName maximum length: {df_staging_events['lastName'].str.len().max()}\")\n",
    "print(f\"gender maximum length: {df_staging_events['gender'].str.len().max()}\")\n",
    "print(f\"level maximum length: {df_staging_events['level'].str.len().max()}\")\n",
    "print(f\"location maximum length: {df_staging_events['location'].str.len().max()}\")\n",
    "print(f\"method maximum length: {df_staging_events['method'].str.len().max()}\")\n",
    "print(f\"page maximum length: {df_staging_events['page'].str.len().max()}\")\n",
    "print(f\"song maximum length: {df_staging_events['song'].str.len().max()}\")\n",
    "print(f\"userAgent maximum length: {df_staging_events['userAgent'].str.len().max()}\")"
   ]
  },
  {
   "cell_type": "markdown",
   "metadata": {},
   "source": [
    "### Find page that are related to playing songs"
   ]
  },
  {
   "cell_type": "code",
   "execution_count": 37,
   "metadata": {},
   "outputs": [
    {
     "data": {
      "text/plain": [
       "page\n",
       "About                 36\n",
       "Downgrade             60\n",
       "Error                  9\n",
       "Help                  47\n",
       "Home                 806\n",
       "Login                 92\n",
       "Logout                90\n",
       "NextSong            6820\n",
       "Save Settings         10\n",
       "Settings              56\n",
       "Submit Downgrade       1\n",
       "Submit Upgrade         8\n",
       "Upgrade               21\n",
       "dtype: int64"
      ]
     },
     "execution_count": 37,
     "metadata": {},
     "output_type": "execute_result"
    }
   ],
   "source": [
    "df_staging_events.groupby([\"page\"]).size()"
   ]
  },
  {
   "cell_type": "markdown",
   "metadata": {},
   "source": [
    "#### Remove all non song playing records"
   ]
  },
  {
   "cell_type": "code",
   "execution_count": 7,
   "metadata": {},
   "outputs": [],
   "source": [
    "df_staging_events = df_staging_events[df_staging_events[\"page\"] == \"NextSong\"].copy()"
   ]
  },
  {
   "cell_type": "markdown",
   "metadata": {},
   "source": [
    "### users dimension table"
   ]
  },
  {
   "cell_type": "code",
   "execution_count": 8,
   "metadata": {},
   "outputs": [
    {
     "data": {
      "text/html": [
       "<div>\n",
       "<style scoped>\n",
       "    .dataframe tbody tr th:only-of-type {\n",
       "        vertical-align: middle;\n",
       "    }\n",
       "\n",
       "    .dataframe tbody tr th {\n",
       "        vertical-align: top;\n",
       "    }\n",
       "\n",
       "    .dataframe thead th {\n",
       "        text-align: right;\n",
       "    }\n",
       "</style>\n",
       "<table border=\"1\" class=\"dataframe\">\n",
       "  <thead>\n",
       "    <tr style=\"text-align: right;\">\n",
       "      <th></th>\n",
       "      <th>userId</th>\n",
       "      <th>firstName</th>\n",
       "      <th>lastName</th>\n",
       "      <th>gender</th>\n",
       "      <th>level</th>\n",
       "    </tr>\n",
       "  </thead>\n",
       "  <tbody>\n",
       "    <tr>\n",
       "      <th>0</th>\n",
       "      <td>69</td>\n",
       "      <td>Anabelle</td>\n",
       "      <td>Simpson</td>\n",
       "      <td>F</td>\n",
       "      <td>free</td>\n",
       "    </tr>\n",
       "    <tr>\n",
       "      <th>1</th>\n",
       "      <td>69</td>\n",
       "      <td>Anabelle</td>\n",
       "      <td>Simpson</td>\n",
       "      <td>F</td>\n",
       "      <td>free</td>\n",
       "    </tr>\n",
       "    <tr>\n",
       "      <th>2</th>\n",
       "      <td>69</td>\n",
       "      <td>Anabelle</td>\n",
       "      <td>Simpson</td>\n",
       "      <td>F</td>\n",
       "      <td>free</td>\n",
       "    </tr>\n",
       "    <tr>\n",
       "      <th>4</th>\n",
       "      <td>32</td>\n",
       "      <td>Lily</td>\n",
       "      <td>Burns</td>\n",
       "      <td>F</td>\n",
       "      <td>free</td>\n",
       "    </tr>\n",
       "    <tr>\n",
       "      <th>5</th>\n",
       "      <td>75</td>\n",
       "      <td>Joseph</td>\n",
       "      <td>Gutierrez</td>\n",
       "      <td>M</td>\n",
       "      <td>free</td>\n",
       "    </tr>\n",
       "  </tbody>\n",
       "</table>\n",
       "</div>"
      ],
      "text/plain": [
       "  userId firstName   lastName gender level\n",
       "0     69  Anabelle    Simpson      F  free\n",
       "1     69  Anabelle    Simpson      F  free\n",
       "2     69  Anabelle    Simpson      F  free\n",
       "4     32      Lily      Burns      F  free\n",
       "5     75    Joseph  Gutierrez      M  free"
      ]
     },
     "execution_count": 8,
     "metadata": {},
     "output_type": "execute_result"
    }
   ],
   "source": [
    "df_user = df_staging_events[[\"userId\", \"firstName\", \"lastName\", \"gender\", \"level\"]].copy()\n",
    "df_user.head()"
   ]
  },
  {
   "cell_type": "markdown",
   "metadata": {},
   "source": [
    "#### Check for null data"
   ]
  },
  {
   "cell_type": "code",
   "execution_count": 9,
   "metadata": {},
   "outputs": [
    {
     "data": {
      "text/plain": [
       "userId       0\n",
       "firstName    0\n",
       "lastName     0\n",
       "gender       0\n",
       "level        0\n",
       "dtype: int64"
      ]
     },
     "execution_count": 9,
     "metadata": {},
     "output_type": "execute_result"
    }
   ],
   "source": [
    "df_user.isna().sum()"
   ]
  },
  {
   "cell_type": "markdown",
   "metadata": {},
   "source": [
    "#### Check Data Types"
   ]
  },
  {
   "cell_type": "code",
   "execution_count": 10,
   "metadata": {},
   "outputs": [
    {
     "name": "stdout",
     "output_type": "stream",
     "text": [
      "<class 'pandas.core.frame.DataFrame'>\n",
      "Int64Index: 6820 entries, 0 to 357\n",
      "Data columns (total 5 columns):\n",
      "userId       6820 non-null object\n",
      "firstName    6820 non-null object\n",
      "lastName     6820 non-null object\n",
      "gender       6820 non-null object\n",
      "level        6820 non-null object\n",
      "dtypes: object(5)\n",
      "memory usage: 319.7+ KB\n"
     ]
    }
   ],
   "source": [
    "df_user.info()"
   ]
  },
  {
   "cell_type": "markdown",
   "metadata": {},
   "source": [
    "#### Check for duplicates"
   ]
  },
  {
   "cell_type": "code",
   "execution_count": 11,
   "metadata": {},
   "outputs": [
    {
     "data": {
      "text/plain": [
       "userId\n",
       "49    687\n",
       "80    659\n",
       "97    557\n",
       "15    389\n",
       "29    346\n",
       "     ... \n",
       "35      1\n",
       "45      1\n",
       "69      1\n",
       "89      1\n",
       "48      1\n",
       "Length: 129, dtype: int64"
      ]
     },
     "execution_count": 11,
     "metadata": {},
     "output_type": "execute_result"
    }
   ],
   "source": [
    "df_user.groupby([\"userId\"]).size().sort_values(ascending=False)"
   ]
  },
  {
   "cell_type": "markdown",
   "metadata": {},
   "source": [
    "#### Check field lengths of strings"
   ]
  },
  {
   "cell_type": "code",
   "execution_count": 12,
   "metadata": {
    "scrolled": true
   },
   "outputs": [
    {
     "name": "stdout",
     "output_type": "stream",
     "text": [
      "firstName maximum length: 10\n",
      "lastName maximum length: 9\n",
      "gender maximum length: 1\n",
      "level maximum length: 4\n"
     ]
    }
   ],
   "source": [
    "print(f\"firstName maximum length: {df_user['firstName'].str.len().max()}\")\n",
    "print(f\"lastName maximum length: {df_user['lastName'].str.len().max()}\")\n",
    "print(f\"gender maximum length: {df_user['gender'].str.len().max()}\")\n",
    "print(f\"level maximum length: {df_user['level'].str.len().max()}\")"
   ]
  },
  {
   "cell_type": "markdown",
   "metadata": {},
   "source": [
    "### time dimension table"
   ]
  },
  {
   "cell_type": "code",
   "execution_count": 13,
   "metadata": {},
   "outputs": [
    {
     "data": {
      "text/html": [
       "<div>\n",
       "<style scoped>\n",
       "    .dataframe tbody tr th:only-of-type {\n",
       "        vertical-align: middle;\n",
       "    }\n",
       "\n",
       "    .dataframe tbody tr th {\n",
       "        vertical-align: top;\n",
       "    }\n",
       "\n",
       "    .dataframe thead th {\n",
       "        text-align: right;\n",
       "    }\n",
       "</style>\n",
       "<table border=\"1\" class=\"dataframe\">\n",
       "  <thead>\n",
       "    <tr style=\"text-align: right;\">\n",
       "      <th></th>\n",
       "      <th>ts</th>\n",
       "    </tr>\n",
       "  </thead>\n",
       "  <tbody>\n",
       "    <tr>\n",
       "      <th>0</th>\n",
       "      <td>1541903636796</td>\n",
       "    </tr>\n",
       "    <tr>\n",
       "      <th>1</th>\n",
       "      <td>1541903770796</td>\n",
       "    </tr>\n",
       "    <tr>\n",
       "      <th>2</th>\n",
       "      <td>1541904034796</td>\n",
       "    </tr>\n",
       "    <tr>\n",
       "      <th>4</th>\n",
       "      <td>1541910973796</td>\n",
       "    </tr>\n",
       "    <tr>\n",
       "      <th>5</th>\n",
       "      <td>1541911006796</td>\n",
       "    </tr>\n",
       "  </tbody>\n",
       "</table>\n",
       "</div>"
      ],
      "text/plain": [
       "              ts\n",
       "0  1541903636796\n",
       "1  1541903770796\n",
       "2  1541904034796\n",
       "4  1541910973796\n",
       "5  1541911006796"
      ]
     },
     "execution_count": 13,
     "metadata": {},
     "output_type": "execute_result"
    }
   ],
   "source": [
    "df_time = df_staging_events[[\"ts\"]].copy()\n",
    "df_time.head()"
   ]
  },
  {
   "cell_type": "markdown",
   "metadata": {},
   "source": [
    "#### Check for null data"
   ]
  },
  {
   "cell_type": "code",
   "execution_count": 14,
   "metadata": {},
   "outputs": [
    {
     "data": {
      "text/plain": [
       "ts    0\n",
       "dtype: int64"
      ]
     },
     "execution_count": 14,
     "metadata": {},
     "output_type": "execute_result"
    }
   ],
   "source": [
    "df_time.isna().sum()"
   ]
  },
  {
   "cell_type": "markdown",
   "metadata": {},
   "source": [
    "#### Check for duplicates"
   ]
  },
  {
   "cell_type": "code",
   "execution_count": 15,
   "metadata": {},
   "outputs": [
    {
     "data": {
      "text/plain": [
       "ts\n",
       "1543339730796    2\n",
       "1543422975796    2\n",
       "1542984111796    2\n",
       "1543069787796    2\n",
       "1543435163796    2\n",
       "dtype: int64"
      ]
     },
     "execution_count": 15,
     "metadata": {},
     "output_type": "execute_result"
    }
   ],
   "source": [
    "df_time.groupby([\"ts\"]).size().sort_values(ascending=False).head(5)"
   ]
  },
  {
   "cell_type": "markdown",
   "metadata": {},
   "source": [
    "### songs staging table"
   ]
  },
  {
   "cell_type": "code",
   "execution_count": 16,
   "metadata": {},
   "outputs": [],
   "source": [
    "df_song_staging = pd.concat([\n",
    "    pd.read_json(file, lines=True) for file in get_files(\"song_data\") if file.endswith(\".json\")\n",
    "])"
   ]
  },
  {
   "cell_type": "markdown",
   "metadata": {},
   "source": [
    "#### Sample Data"
   ]
  },
  {
   "cell_type": "code",
   "execution_count": 17,
   "metadata": {},
   "outputs": [
    {
     "data": {
      "text/html": [
       "<div>\n",
       "<style scoped>\n",
       "    .dataframe tbody tr th:only-of-type {\n",
       "        vertical-align: middle;\n",
       "    }\n",
       "\n",
       "    .dataframe tbody tr th {\n",
       "        vertical-align: top;\n",
       "    }\n",
       "\n",
       "    .dataframe thead th {\n",
       "        text-align: right;\n",
       "    }\n",
       "</style>\n",
       "<table border=\"1\" class=\"dataframe\">\n",
       "  <thead>\n",
       "    <tr style=\"text-align: right;\">\n",
       "      <th></th>\n",
       "      <th>artist_id</th>\n",
       "      <th>artist_latitude</th>\n",
       "      <th>artist_location</th>\n",
       "      <th>artist_longitude</th>\n",
       "      <th>artist_name</th>\n",
       "      <th>duration</th>\n",
       "      <th>num_songs</th>\n",
       "      <th>song_id</th>\n",
       "      <th>title</th>\n",
       "      <th>year</th>\n",
       "    </tr>\n",
       "  </thead>\n",
       "  <tbody>\n",
       "    <tr>\n",
       "      <th>0</th>\n",
       "      <td>AR052WY1187FB55B1C</td>\n",
       "      <td>27.49550</td>\n",
       "      <td>BRADENTON. FL</td>\n",
       "      <td>-82.57807</td>\n",
       "      <td>We The Kings</td>\n",
       "      <td>194.35057</td>\n",
       "      <td>1</td>\n",
       "      <td>SOGEKSP12A58A78530</td>\n",
       "      <td>August Is Over</td>\n",
       "      <td>2007</td>\n",
       "    </tr>\n",
       "    <tr>\n",
       "      <th>0</th>\n",
       "      <td>AR0S3YD1187B99967F</td>\n",
       "      <td>NaN</td>\n",
       "      <td>Jacksonville, FL</td>\n",
       "      <td>NaN</td>\n",
       "      <td>The Classics IV</td>\n",
       "      <td>127.65995</td>\n",
       "      <td>1</td>\n",
       "      <td>SOYRACV12A8C13C4D8</td>\n",
       "      <td>24 Hours Of Loneliness</td>\n",
       "      <td>1975</td>\n",
       "    </tr>\n",
       "    <tr>\n",
       "      <th>0</th>\n",
       "      <td>ARNNRN31187B9AE7B7</td>\n",
       "      <td>NaN</td>\n",
       "      <td>Forrest City, AR</td>\n",
       "      <td>NaN</td>\n",
       "      <td>Al Green</td>\n",
       "      <td>189.41342</td>\n",
       "      <td>1</td>\n",
       "      <td>SOIDBNB12A58A7A72C</td>\n",
       "      <td>Keep Me Crying</td>\n",
       "      <td>1976</td>\n",
       "    </tr>\n",
       "    <tr>\n",
       "      <th>0</th>\n",
       "      <td>ARZDP5D1187B9B4ECB</td>\n",
       "      <td>50.84838</td>\n",
       "      <td>Brussel 1981</td>\n",
       "      <td>4.34968</td>\n",
       "      <td>Arbeid Adelt!</td>\n",
       "      <td>279.03955</td>\n",
       "      <td>1</td>\n",
       "      <td>SOEDXTY12A6D4FB0ED</td>\n",
       "      <td>Het Meisje Van Mijn Hart</td>\n",
       "      <td>1983</td>\n",
       "    </tr>\n",
       "    <tr>\n",
       "      <th>0</th>\n",
       "      <td>ARFL99B1187B9A2A45</td>\n",
       "      <td>NaN</td>\n",
       "      <td>PERTH AMBOY, New Jersey</td>\n",
       "      <td>NaN</td>\n",
       "      <td>Sugarland</td>\n",
       "      <td>202.26567</td>\n",
       "      <td>1</td>\n",
       "      <td>SOXTCXD12AB0183E39</td>\n",
       "      <td>Silent Night</td>\n",
       "      <td>2009</td>\n",
       "    </tr>\n",
       "  </tbody>\n",
       "</table>\n",
       "</div>"
      ],
      "text/plain": [
       "            artist_id  artist_latitude          artist_location  \\\n",
       "0  AR052WY1187FB55B1C         27.49550            BRADENTON. FL   \n",
       "0  AR0S3YD1187B99967F              NaN         Jacksonville, FL   \n",
       "0  ARNNRN31187B9AE7B7              NaN         Forrest City, AR   \n",
       "0  ARZDP5D1187B9B4ECB         50.84838             Brussel 1981   \n",
       "0  ARFL99B1187B9A2A45              NaN  PERTH AMBOY, New Jersey   \n",
       "\n",
       "   artist_longitude      artist_name   duration  num_songs  \\\n",
       "0         -82.57807     We The Kings  194.35057          1   \n",
       "0               NaN  The Classics IV  127.65995          1   \n",
       "0               NaN         Al Green  189.41342          1   \n",
       "0           4.34968    Arbeid Adelt!  279.03955          1   \n",
       "0               NaN        Sugarland  202.26567          1   \n",
       "\n",
       "              song_id                     title  year  \n",
       "0  SOGEKSP12A58A78530            August Is Over  2007  \n",
       "0  SOYRACV12A8C13C4D8    24 Hours Of Loneliness  1975  \n",
       "0  SOIDBNB12A58A7A72C            Keep Me Crying  1976  \n",
       "0  SOEDXTY12A6D4FB0ED  Het Meisje Van Mijn Hart  1983  \n",
       "0  SOXTCXD12AB0183E39              Silent Night  2009  "
      ]
     },
     "execution_count": 17,
     "metadata": {},
     "output_type": "execute_result"
    }
   ],
   "source": [
    "df_song_staging.head()"
   ]
  },
  {
   "cell_type": "markdown",
   "metadata": {},
   "source": [
    "#### Check for null data"
   ]
  },
  {
   "cell_type": "code",
   "execution_count": 18,
   "metadata": {},
   "outputs": [
    {
     "data": {
      "text/plain": [
       "artist_id              0\n",
       "artist_latitude     6789\n",
       "artist_location        0\n",
       "artist_longitude    6789\n",
       "artist_name            0\n",
       "duration               0\n",
       "num_songs              0\n",
       "song_id                0\n",
       "title                  0\n",
       "year                   0\n",
       "dtype: int64"
      ]
     },
     "execution_count": 18,
     "metadata": {},
     "output_type": "execute_result"
    }
   ],
   "source": [
    "df_song_staging.isna().sum()"
   ]
  },
  {
   "cell_type": "markdown",
   "metadata": {},
   "source": [
    "#### Check Data Types"
   ]
  },
  {
   "cell_type": "code",
   "execution_count": 19,
   "metadata": {},
   "outputs": [
    {
     "name": "stdout",
     "output_type": "stream",
     "text": [
      "<class 'pandas.core.frame.DataFrame'>\n",
      "Int64Index: 10549 entries, 0 to 0\n",
      "Data columns (total 10 columns):\n",
      "artist_id           10549 non-null object\n",
      "artist_latitude     3760 non-null float64\n",
      "artist_location     10549 non-null object\n",
      "artist_longitude    3760 non-null float64\n",
      "artist_name         10549 non-null object\n",
      "duration            10549 non-null float64\n",
      "num_songs           10549 non-null int64\n",
      "song_id             10549 non-null object\n",
      "title               10549 non-null object\n",
      "year                10549 non-null int64\n",
      "dtypes: float64(3), int64(2), object(5)\n",
      "memory usage: 906.6+ KB\n"
     ]
    }
   ],
   "source": [
    "df_song_staging.info()"
   ]
  },
  {
   "cell_type": "markdown",
   "metadata": {},
   "source": [
    "#### Check Field Lengths of strings"
   ]
  },
  {
   "cell_type": "code",
   "execution_count": 20,
   "metadata": {},
   "outputs": [
    {
     "name": "stdout",
     "output_type": "stream",
     "text": [
      "artist_id maximum length: 18\n",
      "artist_location maximum length: 176.0\n",
      "artist_name maximum length: 117.0\n",
      "song_id maximum length: 18\n",
      "title maximum length: 173.0\n"
     ]
    }
   ],
   "source": [
    "print(f\"artist_id maximum length: {df_song_staging['artist_id'].str.len().max()}\")\n",
    "print(f\"artist_location maximum length: {df_song_staging['artist_location'].str.len().max()}\")\n",
    "print(f\"artist_name maximum length: {df_song_staging['artist_name'].str.len().max()}\")\n",
    "print(f\"song_id maximum length: {df_song_staging['song_id'].str.len().max()}\")\n",
    "print(f\"title maximum length: {df_song_staging['title'].str.len().max()}\")"
   ]
  },
  {
   "cell_type": "markdown",
   "metadata": {},
   "source": [
    "### songs dimension table"
   ]
  },
  {
   "cell_type": "code",
   "execution_count": 21,
   "metadata": {},
   "outputs": [
    {
     "data": {
      "text/html": [
       "<div>\n",
       "<style scoped>\n",
       "    .dataframe tbody tr th:only-of-type {\n",
       "        vertical-align: middle;\n",
       "    }\n",
       "\n",
       "    .dataframe tbody tr th {\n",
       "        vertical-align: top;\n",
       "    }\n",
       "\n",
       "    .dataframe thead th {\n",
       "        text-align: right;\n",
       "    }\n",
       "</style>\n",
       "<table border=\"1\" class=\"dataframe\">\n",
       "  <thead>\n",
       "    <tr style=\"text-align: right;\">\n",
       "      <th></th>\n",
       "      <th>song_id</th>\n",
       "      <th>title</th>\n",
       "      <th>artist_id</th>\n",
       "      <th>year</th>\n",
       "      <th>duration</th>\n",
       "    </tr>\n",
       "  </thead>\n",
       "  <tbody>\n",
       "    <tr>\n",
       "      <th>0</th>\n",
       "      <td>SOGEKSP12A58A78530</td>\n",
       "      <td>August Is Over</td>\n",
       "      <td>AR052WY1187FB55B1C</td>\n",
       "      <td>2007</td>\n",
       "      <td>194.35057</td>\n",
       "    </tr>\n",
       "    <tr>\n",
       "      <th>0</th>\n",
       "      <td>SOYRACV12A8C13C4D8</td>\n",
       "      <td>24 Hours Of Loneliness</td>\n",
       "      <td>AR0S3YD1187B99967F</td>\n",
       "      <td>1975</td>\n",
       "      <td>127.65995</td>\n",
       "    </tr>\n",
       "    <tr>\n",
       "      <th>0</th>\n",
       "      <td>SOIDBNB12A58A7A72C</td>\n",
       "      <td>Keep Me Crying</td>\n",
       "      <td>ARNNRN31187B9AE7B7</td>\n",
       "      <td>1976</td>\n",
       "      <td>189.41342</td>\n",
       "    </tr>\n",
       "    <tr>\n",
       "      <th>0</th>\n",
       "      <td>SOEDXTY12A6D4FB0ED</td>\n",
       "      <td>Het Meisje Van Mijn Hart</td>\n",
       "      <td>ARZDP5D1187B9B4ECB</td>\n",
       "      <td>1983</td>\n",
       "      <td>279.03955</td>\n",
       "    </tr>\n",
       "    <tr>\n",
       "      <th>0</th>\n",
       "      <td>SOXTCXD12AB0183E39</td>\n",
       "      <td>Silent Night</td>\n",
       "      <td>ARFL99B1187B9A2A45</td>\n",
       "      <td>2009</td>\n",
       "      <td>202.26567</td>\n",
       "    </tr>\n",
       "  </tbody>\n",
       "</table>\n",
       "</div>"
      ],
      "text/plain": [
       "              song_id                     title           artist_id  year  \\\n",
       "0  SOGEKSP12A58A78530            August Is Over  AR052WY1187FB55B1C  2007   \n",
       "0  SOYRACV12A8C13C4D8    24 Hours Of Loneliness  AR0S3YD1187B99967F  1975   \n",
       "0  SOIDBNB12A58A7A72C            Keep Me Crying  ARNNRN31187B9AE7B7  1976   \n",
       "0  SOEDXTY12A6D4FB0ED  Het Meisje Van Mijn Hart  ARZDP5D1187B9B4ECB  1983   \n",
       "0  SOXTCXD12AB0183E39              Silent Night  ARFL99B1187B9A2A45  2009   \n",
       "\n",
       "    duration  \n",
       "0  194.35057  \n",
       "0  127.65995  \n",
       "0  189.41342  \n",
       "0  279.03955  \n",
       "0  202.26567  "
      ]
     },
     "execution_count": 21,
     "metadata": {},
     "output_type": "execute_result"
    }
   ],
   "source": [
    "df_song = df_song_staging[[\"song_id\", \"title\", \"artist_id\", \"year\", \"duration\"]].copy()\n",
    "df_song.head()"
   ]
  },
  {
   "cell_type": "markdown",
   "metadata": {},
   "source": [
    "#### Check for null data"
   ]
  },
  {
   "cell_type": "code",
   "execution_count": 22,
   "metadata": {},
   "outputs": [
    {
     "data": {
      "text/plain": [
       "song_id      0\n",
       "title        0\n",
       "artist_id    0\n",
       "year         0\n",
       "duration     0\n",
       "dtype: int64"
      ]
     },
     "execution_count": 22,
     "metadata": {},
     "output_type": "execute_result"
    }
   ],
   "source": [
    "df_song.isna().sum()"
   ]
  },
  {
   "cell_type": "markdown",
   "metadata": {},
   "source": [
    "#### Check Data Types"
   ]
  },
  {
   "cell_type": "code",
   "execution_count": 23,
   "metadata": {},
   "outputs": [
    {
     "name": "stdout",
     "output_type": "stream",
     "text": [
      "<class 'pandas.core.frame.DataFrame'>\n",
      "Int64Index: 10549 entries, 0 to 0\n",
      "Data columns (total 5 columns):\n",
      "song_id      10549 non-null object\n",
      "title        10549 non-null object\n",
      "artist_id    10549 non-null object\n",
      "year         10549 non-null int64\n",
      "duration     10549 non-null float64\n",
      "dtypes: float64(1), int64(1), object(3)\n",
      "memory usage: 494.5+ KB\n"
     ]
    }
   ],
   "source": [
    "df_song.info()"
   ]
  },
  {
   "cell_type": "markdown",
   "metadata": {},
   "source": [
    "#### Check for duplicates"
   ]
  },
  {
   "cell_type": "code",
   "execution_count": 24,
   "metadata": {},
   "outputs": [
    {
     "data": {
      "text/plain": [
       "song_id\n",
       "SOZZZON12A8C139ED5    1\n",
       "SOHZDYL12A8C141C73    1\n",
       "SOHZCKI12AB018A082    1\n",
       "SOHZBHI12AB017F7EE    1\n",
       "SOHZAZP12A6D4F5CDE    1\n",
       "                     ..\n",
       "SOQTPLM12B0B809575    1\n",
       "SOQTOBG12A6D4FD6F0    1\n",
       "SOQTLMB12A58A7DBFF    1\n",
       "SOQTKTG12A6701D451    1\n",
       "SOAACTC12AB0186A20    1\n",
       "Length: 10549, dtype: int64"
      ]
     },
     "execution_count": 24,
     "metadata": {},
     "output_type": "execute_result"
    }
   ],
   "source": [
    "df_song.groupby([\"song_id\"]).size().sort_values(ascending=False)"
   ]
  },
  {
   "cell_type": "markdown",
   "metadata": {},
   "source": [
    "#### Check field lengths of strings"
   ]
  },
  {
   "cell_type": "code",
   "execution_count": 25,
   "metadata": {},
   "outputs": [
    {
     "name": "stdout",
     "output_type": "stream",
     "text": [
      "artist_id maximum length: 18\n",
      "song_id maximum length: 18\n",
      "title maximum length: 173.0\n"
     ]
    }
   ],
   "source": [
    "print(f\"artist_id maximum length: {df_song['artist_id'].str.len().max()}\")\n",
    "print(f\"song_id maximum length: {df_song['song_id'].str.len().max()}\")\n",
    "print(f\"title maximum length: {df_song['title'].str.len().max()}\")"
   ]
  },
  {
   "cell_type": "markdown",
   "metadata": {},
   "source": [
    "### artists dimension table"
   ]
  },
  {
   "cell_type": "code",
   "execution_count": 26,
   "metadata": {},
   "outputs": [
    {
     "data": {
      "text/html": [
       "<div>\n",
       "<style scoped>\n",
       "    .dataframe tbody tr th:only-of-type {\n",
       "        vertical-align: middle;\n",
       "    }\n",
       "\n",
       "    .dataframe tbody tr th {\n",
       "        vertical-align: top;\n",
       "    }\n",
       "\n",
       "    .dataframe thead th {\n",
       "        text-align: right;\n",
       "    }\n",
       "</style>\n",
       "<table border=\"1\" class=\"dataframe\">\n",
       "  <thead>\n",
       "    <tr style=\"text-align: right;\">\n",
       "      <th></th>\n",
       "      <th>artist_id</th>\n",
       "      <th>artist_name</th>\n",
       "      <th>artist_location</th>\n",
       "      <th>artist_latitude</th>\n",
       "      <th>artist_longitude</th>\n",
       "    </tr>\n",
       "  </thead>\n",
       "  <tbody>\n",
       "    <tr>\n",
       "      <th>0</th>\n",
       "      <td>AR052WY1187FB55B1C</td>\n",
       "      <td>We The Kings</td>\n",
       "      <td>BRADENTON. FL</td>\n",
       "      <td>27.49550</td>\n",
       "      <td>-82.57807</td>\n",
       "    </tr>\n",
       "    <tr>\n",
       "      <th>0</th>\n",
       "      <td>AR0S3YD1187B99967F</td>\n",
       "      <td>The Classics IV</td>\n",
       "      <td>Jacksonville, FL</td>\n",
       "      <td>NaN</td>\n",
       "      <td>NaN</td>\n",
       "    </tr>\n",
       "    <tr>\n",
       "      <th>0</th>\n",
       "      <td>ARNNRN31187B9AE7B7</td>\n",
       "      <td>Al Green</td>\n",
       "      <td>Forrest City, AR</td>\n",
       "      <td>NaN</td>\n",
       "      <td>NaN</td>\n",
       "    </tr>\n",
       "    <tr>\n",
       "      <th>0</th>\n",
       "      <td>ARZDP5D1187B9B4ECB</td>\n",
       "      <td>Arbeid Adelt!</td>\n",
       "      <td>Brussel 1981</td>\n",
       "      <td>50.84838</td>\n",
       "      <td>4.34968</td>\n",
       "    </tr>\n",
       "    <tr>\n",
       "      <th>0</th>\n",
       "      <td>ARFL99B1187B9A2A45</td>\n",
       "      <td>Sugarland</td>\n",
       "      <td>PERTH AMBOY, New Jersey</td>\n",
       "      <td>NaN</td>\n",
       "      <td>NaN</td>\n",
       "    </tr>\n",
       "  </tbody>\n",
       "</table>\n",
       "</div>"
      ],
      "text/plain": [
       "            artist_id      artist_name          artist_location  \\\n",
       "0  AR052WY1187FB55B1C     We The Kings            BRADENTON. FL   \n",
       "0  AR0S3YD1187B99967F  The Classics IV         Jacksonville, FL   \n",
       "0  ARNNRN31187B9AE7B7         Al Green         Forrest City, AR   \n",
       "0  ARZDP5D1187B9B4ECB    Arbeid Adelt!             Brussel 1981   \n",
       "0  ARFL99B1187B9A2A45        Sugarland  PERTH AMBOY, New Jersey   \n",
       "\n",
       "   artist_latitude  artist_longitude  \n",
       "0         27.49550         -82.57807  \n",
       "0              NaN               NaN  \n",
       "0              NaN               NaN  \n",
       "0         50.84838           4.34968  \n",
       "0              NaN               NaN  "
      ]
     },
     "execution_count": 26,
     "metadata": {},
     "output_type": "execute_result"
    }
   ],
   "source": [
    "df_artist = df_song_staging[[\"artist_id\", \"artist_name\", \"artist_location\", \"artist_latitude\", \"artist_longitude\"]].copy()\n",
    "df_artist.head()\n"
   ]
  },
  {
   "cell_type": "markdown",
   "metadata": {},
   "source": [
    "#### Check for null data"
   ]
  },
  {
   "cell_type": "code",
   "execution_count": 27,
   "metadata": {},
   "outputs": [
    {
     "data": {
      "text/plain": [
       "artist_id              0\n",
       "artist_name            0\n",
       "artist_location        0\n",
       "artist_latitude     6789\n",
       "artist_longitude    6789\n",
       "dtype: int64"
      ]
     },
     "execution_count": 27,
     "metadata": {},
     "output_type": "execute_result"
    }
   ],
   "source": [
    "df_artist.isna().sum()"
   ]
  },
  {
   "cell_type": "markdown",
   "metadata": {},
   "source": [
    "#### Check Data Types"
   ]
  },
  {
   "cell_type": "code",
   "execution_count": 28,
   "metadata": {},
   "outputs": [
    {
     "name": "stdout",
     "output_type": "stream",
     "text": [
      "<class 'pandas.core.frame.DataFrame'>\n",
      "Int64Index: 10549 entries, 0 to 0\n",
      "Data columns (total 5 columns):\n",
      "artist_id           10549 non-null object\n",
      "artist_name         10549 non-null object\n",
      "artist_location     10549 non-null object\n",
      "artist_latitude     3760 non-null float64\n",
      "artist_longitude    3760 non-null float64\n",
      "dtypes: float64(2), object(3)\n",
      "memory usage: 494.5+ KB\n"
     ]
    }
   ],
   "source": [
    "df_artist.info()"
   ]
  },
  {
   "cell_type": "markdown",
   "metadata": {},
   "source": [
    "#### Check for duplicates"
   ]
  },
  {
   "cell_type": "code",
   "execution_count": 29,
   "metadata": {},
   "outputs": [
    {
     "data": {
      "text/plain": [
       "artist_id\n",
       "ARUPWVD1187FB4DA36    9\n",
       "ARYPTWE1187FB49D64    7\n",
       "ARLHO5Z1187FB4C861    7\n",
       "AR62BB21187B9AC83D    7\n",
       "ARYF20K1187B9B76BD    7\n",
       "                     ..\n",
       "ARIRE5Q1187FB4DC13    1\n",
       "ARUK0W21187B995456    1\n",
       "ARIRLGQ1187FB45B7E    1\n",
       "ARUJ5A41187FB3F5F1    1\n",
       "AR00B1I1187FB433EB    1\n",
       "Length: 7550, dtype: int64"
      ]
     },
     "execution_count": 29,
     "metadata": {},
     "output_type": "execute_result"
    }
   ],
   "source": [
    "df_artist.groupby([\"artist_id\"]).size().sort_values(ascending=False)"
   ]
  },
  {
   "cell_type": "markdown",
   "metadata": {},
   "source": [
    "#### Check field lengths of strings"
   ]
  },
  {
   "cell_type": "code",
   "execution_count": 30,
   "metadata": {},
   "outputs": [
    {
     "name": "stdout",
     "output_type": "stream",
     "text": [
      "artist_id maximum length: 18\n",
      "artist_location maximum length: 176.0\n",
      "artist_name maximum length: 117.0\n"
     ]
    }
   ],
   "source": [
    "print(f\"artist_id maximum length: {df_artist['artist_id'].str.len().max()}\")\n",
    "print(f\"artist_location maximum length: {df_artist['artist_location'].str.len().max()}\")\n",
    "print(f\"artist_name maximum length: {df_artist['artist_name'].str.len().max()}\")\n"
   ]
  },
  {
   "cell_type": "markdown",
   "metadata": {},
   "source": [
    "### songplay fact table"
   ]
  },
  {
   "cell_type": "code",
   "execution_count": 31,
   "metadata": {},
   "outputs": [
    {
     "data": {
      "text/html": [
       "<div>\n",
       "<style scoped>\n",
       "    .dataframe tbody tr th:only-of-type {\n",
       "        vertical-align: middle;\n",
       "    }\n",
       "\n",
       "    .dataframe tbody tr th {\n",
       "        vertical-align: top;\n",
       "    }\n",
       "\n",
       "    .dataframe thead th {\n",
       "        text-align: right;\n",
       "    }\n",
       "</style>\n",
       "<table border=\"1\" class=\"dataframe\">\n",
       "  <thead>\n",
       "    <tr style=\"text-align: right;\">\n",
       "      <th></th>\n",
       "      <th>ts</th>\n",
       "      <th>userId</th>\n",
       "      <th>level</th>\n",
       "      <th>song_id</th>\n",
       "      <th>artist_id</th>\n",
       "      <th>sessionId</th>\n",
       "      <th>location</th>\n",
       "      <th>userAgent</th>\n",
       "    </tr>\n",
       "  </thead>\n",
       "  <tbody>\n",
       "    <tr>\n",
       "      <th>0</th>\n",
       "      <td>1541903636796</td>\n",
       "      <td>69</td>\n",
       "      <td>free</td>\n",
       "      <td>NaN</td>\n",
       "      <td>NaN</td>\n",
       "      <td>455</td>\n",
       "      <td>Philadelphia-Camden-Wilmington, PA-NJ-DE-MD</td>\n",
       "      <td>\"Mozilla/5.0 (Macintosh; Intel Mac OS X 10_9_4...</td>\n",
       "    </tr>\n",
       "    <tr>\n",
       "      <th>1</th>\n",
       "      <td>1541903770796</td>\n",
       "      <td>69</td>\n",
       "      <td>free</td>\n",
       "      <td>NaN</td>\n",
       "      <td>NaN</td>\n",
       "      <td>455</td>\n",
       "      <td>Philadelphia-Camden-Wilmington, PA-NJ-DE-MD</td>\n",
       "      <td>\"Mozilla/5.0 (Macintosh; Intel Mac OS X 10_9_4...</td>\n",
       "    </tr>\n",
       "    <tr>\n",
       "      <th>2</th>\n",
       "      <td>1541904034796</td>\n",
       "      <td>69</td>\n",
       "      <td>free</td>\n",
       "      <td>NaN</td>\n",
       "      <td>AR3GZLR1187FB3D817</td>\n",
       "      <td>455</td>\n",
       "      <td>Philadelphia-Camden-Wilmington, PA-NJ-DE-MD</td>\n",
       "      <td>\"Mozilla/5.0 (Macintosh; Intel Mac OS X 10_9_4...</td>\n",
       "    </tr>\n",
       "    <tr>\n",
       "      <th>3</th>\n",
       "      <td>1541904034796</td>\n",
       "      <td>69</td>\n",
       "      <td>free</td>\n",
       "      <td>NaN</td>\n",
       "      <td>AR3GZLR1187FB3D817</td>\n",
       "      <td>455</td>\n",
       "      <td>Philadelphia-Camden-Wilmington, PA-NJ-DE-MD</td>\n",
       "      <td>\"Mozilla/5.0 (Macintosh; Intel Mac OS X 10_9_4...</td>\n",
       "    </tr>\n",
       "    <tr>\n",
       "      <th>4</th>\n",
       "      <td>1541910973796</td>\n",
       "      <td>32</td>\n",
       "      <td>free</td>\n",
       "      <td>NaN</td>\n",
       "      <td>NaN</td>\n",
       "      <td>456</td>\n",
       "      <td>New York-Newark-Jersey City, NY-NJ-PA</td>\n",
       "      <td>\"Mozilla/5.0 (Windows NT 6.1; WOW64) AppleWebK...</td>\n",
       "    </tr>\n",
       "  </tbody>\n",
       "</table>\n",
       "</div>"
      ],
      "text/plain": [
       "              ts userId level song_id           artist_id  sessionId  \\\n",
       "0  1541903636796     69  free     NaN                 NaN        455   \n",
       "1  1541903770796     69  free     NaN                 NaN        455   \n",
       "2  1541904034796     69  free     NaN  AR3GZLR1187FB3D817        455   \n",
       "3  1541904034796     69  free     NaN  AR3GZLR1187FB3D817        455   \n",
       "4  1541910973796     32  free     NaN                 NaN        456   \n",
       "\n",
       "                                      location  \\\n",
       "0  Philadelphia-Camden-Wilmington, PA-NJ-DE-MD   \n",
       "1  Philadelphia-Camden-Wilmington, PA-NJ-DE-MD   \n",
       "2  Philadelphia-Camden-Wilmington, PA-NJ-DE-MD   \n",
       "3  Philadelphia-Camden-Wilmington, PA-NJ-DE-MD   \n",
       "4        New York-Newark-Jersey City, NY-NJ-PA   \n",
       "\n",
       "                                           userAgent  \n",
       "0  \"Mozilla/5.0 (Macintosh; Intel Mac OS X 10_9_4...  \n",
       "1  \"Mozilla/5.0 (Macintosh; Intel Mac OS X 10_9_4...  \n",
       "2  \"Mozilla/5.0 (Macintosh; Intel Mac OS X 10_9_4...  \n",
       "3  \"Mozilla/5.0 (Macintosh; Intel Mac OS X 10_9_4...  \n",
       "4  \"Mozilla/5.0 (Windows NT 6.1; WOW64) AppleWebK...  "
      ]
     },
     "execution_count": 31,
     "metadata": {},
     "output_type": "execute_result"
    }
   ],
   "source": [
    "df_songplay = df_staging_events[[\"ts\", \"userId\", \"level\", \"song\", \"artist\", \"sessionId\", \"location\", \"userAgent\"]].copy()\n",
    "df_songplay = pd.merge(df_songplay, df_artist, how='left', \n",
    "         left_on=\"artist\", right_on=\"artist_name\",\n",
    "         left_index=False, right_index=False, copy=True)\n",
    "\n",
    "df_songplay = df_songplay[[\"ts\", \"userId\", \"level\", \"song\", \"artist_id\", \"sessionId\", \"location\", \"userAgent\"]].copy()\n",
    "df_songplay = pd.merge(df_songplay, df_song, how='left', \n",
    "         left_on=[\"song\", \"artist_id\"], right_on=[\"title\", \"artist_id\"],\n",
    "         left_index=False, right_index=False, copy=True)\n",
    "df_songplay = df_songplay[[\"ts\", \"userId\", \"level\", \"song_id\", \"artist_id\", \"sessionId\", \"location\", \"userAgent\"]].copy()\n",
    "df_songplay.head()\n"
   ]
  },
  {
   "cell_type": "markdown",
   "metadata": {},
   "source": [
    "#### Check for null data"
   ]
  },
  {
   "cell_type": "code",
   "execution_count": 32,
   "metadata": {},
   "outputs": [
    {
     "data": {
      "text/plain": [
       "ts              0\n",
       "userId          0\n",
       "level           0\n",
       "song_id      9780\n",
       "artist_id    3093\n",
       "sessionId       0\n",
       "location        0\n",
       "userAgent       0\n",
       "dtype: int64"
      ]
     },
     "execution_count": 32,
     "metadata": {},
     "output_type": "execute_result"
    }
   ],
   "source": [
    "df_songplay.isna().sum()"
   ]
  },
  {
   "cell_type": "markdown",
   "metadata": {},
   "source": [
    "#### Check Data Types"
   ]
  },
  {
   "cell_type": "code",
   "execution_count": 33,
   "metadata": {},
   "outputs": [
    {
     "name": "stdout",
     "output_type": "stream",
     "text": [
      "<class 'pandas.core.frame.DataFrame'>\n",
      "Int64Index: 10222 entries, 0 to 10221\n",
      "Data columns (total 8 columns):\n",
      "ts           10222 non-null int64\n",
      "userId       10222 non-null object\n",
      "level        10222 non-null object\n",
      "song_id      442 non-null object\n",
      "artist_id    7129 non-null object\n",
      "sessionId    10222 non-null int64\n",
      "location     10222 non-null object\n",
      "userAgent    10222 non-null object\n",
      "dtypes: int64(2), object(6)\n",
      "memory usage: 718.7+ KB\n"
     ]
    }
   ],
   "source": [
    "df_songplay.info()"
   ]
  },
  {
   "cell_type": "markdown",
   "metadata": {},
   "source": [
    "#### Check for duplicates"
   ]
  },
  {
   "cell_type": "code",
   "execution_count": 34,
   "metadata": {},
   "outputs": [
    {
     "data": {
      "text/plain": [
       "all\n",
       "1542669098796-25-paid--ARUPWVD1187FB4DA36-594-Marinette, WI-MI-\"Mozilla/5.0 (Windows NT 6.3; WOW64) AppleWebKit/537.36 (KHTML, like Gecko) Chrome/36.0.1985.143 Safari/537.36\"                                             9\n",
       "1542165152796-80-paid--ARUPWVD1187FB4DA36-548-Portland-South Portland, ME-\"Mozilla/5.0 (Macintosh; Intel Mac OS X 10_9_4) AppleWebKit/537.36 (KHTML, like Gecko) Chrome/36.0.1985.143 Safari/537.36\"                       9\n",
       "1541668284796-80-paid--ARUPWVD1187FB4DA36-342-Portland-South Portland, ME-\"Mozilla/5.0 (Macintosh; Intel Mac OS X 10_9_4) AppleWebKit/537.36 (KHTML, like Gecko) Chrome/36.0.1985.143 Safari/537.36\"                       9\n",
       "1541183813796-71-free-SOBBZPM12AB017DF4B-ARH6W4X1187B99274F-70-Columbia, SC-\"Mozilla/5.0 (iPhone; CPU iPhone OS 7_1_1 like Mac OS X) AppleWebKit/537.51.2 (KHTML, like Gecko) Version/7.0 Mobile/11D201 Safari/9537.53\"    6\n",
       "1542786780796-88-paid--ARH6W4X1187B99274F-744-Sacramento--Roseville--Arden-Arcade, CA-\"Mozilla/5.0 (Macintosh; Intel Mac OS X 10_9_4) AppleWebKit/537.36 (KHTML, like Gecko) Chrome/36.0.1985.143 Safari/537.36\"           6\n",
       "1542387499796-36-paid--ARH6W4X1187B99274F-461-Janesville-Beloit, WI-\"Mozilla/5.0 (Windows NT 5.1) AppleWebKit/537.36 (KHTML, like Gecko) Chrome/36.0.1985.143 Safari/537.36\"                                               6\n",
       "1542321361796-44-paid--AR6XPWV1187B9ADAEB-619-Waterloo-Cedar Falls, IA-Mozilla/5.0 (Macintosh; Intel Mac OS X 10.9; rv:31.0) Gecko/20100101 Firefox/31.0                                                                   6\n",
       "1542064422796-80-paid-SOSQIHH12A8C13370B-ARH6W4X1187B99274F-481-Portland-South Portland, ME-\"Mozilla/5.0 (Macintosh; Intel Mac OS X 10_9_4) AppleWebKit/537.36 (KHTML, like Gecko) Chrome/36.0.1985.143 Safari/537.36\"     6\n",
       "1542278704796-16-paid--AR6XPWV1187B9ADAEB-575-Birmingham-Hoover, AL-\"Mozilla/5.0 (Macintosh; Intel Mac OS X 10_9_4) AppleWebKit/537.77.4 (KHTML, like Gecko) Version/7.0.5 Safari/537.77.4\"                                6\n",
       "1542090265796-60-free--AR6XPWV1187B9ADAEB-413-Tampa-St. Petersburg-Clearwater, FL-Mozilla/5.0 (Windows NT 6.1; WOW64; rv:31.0) Gecko/20100101 Firefox/31.0                                                                 6\n",
       "dtype: int64"
      ]
     },
     "execution_count": 34,
     "metadata": {},
     "output_type": "execute_result"
    }
   ],
   "source": [
    "df_songplay.fillna(\"\", inplace=True)\n",
    "df_songplay[\"all\"] = (\n",
    "    df_songplay[\"ts\"].astype(str) + \n",
    "    \"-\" + df_songplay[\"userId\"].astype(str) +\n",
    "    \"-\" + df_songplay[\"level\"].astype(str) +\n",
    "    \"-\" + df_songplay[\"song_id\"].astype(str) +\n",
    "    \"-\" + df_songplay[\"artist_id\"].astype(str) +\n",
    "    \"-\" + df_songplay[\"sessionId\"].astype(str) + \n",
    "    \"-\" + df_songplay[\"location\"].astype(str) +\n",
    "    \"-\" + df_songplay[\"userAgent\"].astype(str)\n",
    ")\n",
    "\n",
    "df_songplay.groupby([\n",
    "    \"all\"\n",
    "]).size().sort_values(ascending=False).head(10)"
   ]
  },
  {
   "cell_type": "markdown",
   "metadata": {},
   "source": [
    "#### Check field lengths of strings"
   ]
  },
  {
   "cell_type": "code",
   "execution_count": 35,
   "metadata": {
    "scrolled": true
   },
   "outputs": [
    {
     "name": "stdout",
     "output_type": "stream",
     "text": [
      "userId maximum length: 3.0\n",
      "level maximum length: 4\n",
      "song_id maximum length: 18\n",
      "artist_id maximum length: 18\n",
      "location maximum length: 46\n",
      "userAgent maximum length: 139\n"
     ]
    }
   ],
   "source": [
    "print(f\"userId maximum length: {df_songplay['userId'].str.len().max()}\")\n",
    "print(f\"level maximum length: {df_songplay['level'].str.len().max()}\")\n",
    "print(f\"song_id maximum length: {df_songplay['song_id'].str.len().max()}\")\n",
    "print(f\"artist_id maximum length: {df_songplay['artist_id'].str.len().max()}\")\n",
    "print(f\"location maximum length: {df_songplay['location'].str.len().max()}\")\n",
    "print(f\"userAgent maximum length: {df_songplay['userAgent'].str.len().max()}\")"
   ]
  },
  {
   "cell_type": "code",
   "execution_count": null,
   "metadata": {},
   "outputs": [],
   "source": []
  }
 ],
 "metadata": {
  "kernelspec": {
   "display_name": "Python 3.7.4 64-bit ('rev.io': conda)",
   "language": "python",
   "name": "python37464bitrevioconda39ee8ba4a89d4094be1912c5823cf531"
  },
  "language_info": {
   "codemirror_mode": {
    "name": "ipython",
    "version": 3
   },
   "file_extension": ".py",
   "mimetype": "text/x-python",
   "name": "python",
   "nbconvert_exporter": "python",
   "pygments_lexer": "ipython3",
   "version": "3.7.4"
  }
 },
 "nbformat": 4,
 "nbformat_minor": 4
}
